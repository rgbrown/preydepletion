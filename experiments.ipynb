{
 "metadata": {
  "name": "",
  "signature": "sha256:de24f1574497932fde7b08f68507b087600b38914dc69e6d087ff5081d8b00ee"
 },
 "nbformat": 3,
 "nbformat_minor": 0,
 "worksheets": [
  {
   "cells": [
    {
     "cell_type": "code",
     "collapsed": false,
     "input": [
      "import numpy as np\n",
      "import matplotlib.pyplot as plt\n",
      "import scipy.spatial\n",
      "%matplotlib inline"
     ],
     "language": "python",
     "metadata": {},
     "outputs": [],
     "prompt_number": 5
    },
    {
     "cell_type": "markdown",
     "metadata": {},
     "source": [
      "Prey Depletion numerical experiments\n",
      "====================================\n",
      "\n",
      "We want to investigate how accumulated prey depletion slows the rate of population depletion when compared with a well-mixed model."
     ]
    },
    {
     "cell_type": "markdown",
     "metadata": {},
     "source": [
      "deplete2d class\n",
      "---------------\n",
      "\n",
      "Below is a class that sets up an environment with a random number of prey items of a specified Poisson density, and a single predator. The predator has a given perceptive radius, and constant speed, and individual vector steps can be specified."
     ]
    },
    {
     "cell_type": "code",
     "collapsed": false,
     "input": [
      "def init_prey(n):\n",
      "    \"\"\"\n",
      "    Initialize prey using a structured array\n",
      "    \"\"\"\n",
      "    \n",
      "    prey = np.zeros(n, dtype='uint32, 2float64, uint8')\n",
      "    prey.dtype.names = ('index', 'position', 'alive')\n",
      "    prey['index'] = range(n)\n",
      "    prey['position'] = np.random.rand(n, 2)\n",
      "    prey['alive'] = np.ones(n)\n",
      "    return prey\n",
      "    \n",
      "def init_output_array(n):\n",
      "    output = np.zeros(n, dtype='float64, uint32')\n",
      "    output.dtype.names = ('time', 'index')\n",
      "    return output\n",
      "    \n",
      "    "
     ],
     "language": "python",
     "metadata": {},
     "outputs": [],
     "prompt_number": 6
    },
    {
     "cell_type": "code",
     "collapsed": false,
     "input": [
      "class deplete2d:\n",
      "    def __init__(self, density=100, speed=1., radius=0.01):\n",
      "        # The actual number of prey is Poisson distributed\n",
      "        self.n_prey = scipy.random.poisson(density)\n",
      "        self.output = init_output_array(self.n_prey)\n",
      "        self.outp = 0\n",
      "        self.time = 0.\n",
      "        \n",
      "        # Initialise prey, and make a copy to work on, and compute KDTree\n",
      "        self.prey_original = init_prey(self.n_prey)\n",
      "        self.prey = self.prey_original[self.prey_original['alive'].nonzero()]\n",
      "        self.tree = scipy.spatial.cKDTree(self.prey['position'])\n",
      "        \n",
      "        self.speed = speed\n",
      "        self.radius = radius\n",
      "        self.x_pred = np.array([0.5, 0.5])\n",
      "        \n",
      "    def update_domain(self, centre=[0.5,0.5]):\n",
      "        \"\"\"\n",
      "        translate the domain (mod 1) so that centre is the new centre,\n",
      "        copy dead prey information to original block,\n",
      "        create new working prey set,\n",
      "        update KD Tree\n",
      "        \"\"\"\n",
      "        centre = np.array(centre)\n",
      "        assert(centre.size == 2)\n",
      "        \n",
      "        # First, copy dead dude information back to original prey block\n",
      "        i_dead = self.prey['alive'] == 0\n",
      "        self.prey_original['alive'][self.prey[i_dead]['index']] = 0\n",
      "        \n",
      "        # Remove dead prey items\n",
      "        self.prey = self.prey[~i_dead]\n",
      "\n",
      "        # Recenter and recompute tree\n",
      "        self.prey['position'] = np.remainder(self.prey['position'] + \n",
      "                                          np.array([0.5, 0.5]) - centre, 1.)\n",
      "        self.tree = scipy.spatial.cKDTree(self.prey['position'])\n",
      "        \n",
      "    def step(self, u):\n",
      "        u = np.array(u)\n",
      "        assert(u.size == 2)\n",
      "        \n",
      "        # Check whether domain update is required\n",
      "        if ((self.x_pred + u < self.radius) |\n",
      "            (self.x_pred + u > 1 - self.radius)).any():\n",
      "            self.update_domain(self.x_pred + u)\n",
      "            self.x_pred = np.array([0.5, 0.5]) - u\n",
      "            \n",
      "        # We may now assume that our step will stay in bounds\n",
      "        step_length = np.hypot(u[0], u[1])\n",
      "        i_nearby = np.array(self.tree.query_ball_point(self.x_pred, step_length + self.radius))\n",
      "        \n",
      "        # Now, create a smaller copy to work on, with only nearby (and alive) dudes\n",
      "        prey_local = self.prey[i_nearby]\n",
      "        \n",
      "        # PROBLEM IS HERE I THINK - NOT TAKING INTO ACCOUNT THIS MESS\n",
      "        prey_local = prey_local[prey_local['alive'] > 0]\n",
      "        print prey_local['alive']\n",
      "      \n",
      "        # Find the indices (into prey_local) of the prey eaten on the step, and the\n",
      "        # distance travelled when each one was eaten\n",
      "        i_eaten, d_travelled = self.find_prey(prey_local, u)\n",
      "        n_eaten = i_eaten[0].size\n",
      "        \n",
      "        #print self.prey['alive'][i_nearby[i_eaten]]\n",
      "        assert(self.prey['alive'][i_nearby[i_eaten]].all())\n",
      "        self.prey['alive'][i_nearby[i_eaten]] = 0\n",
      "        \n",
      "        self.prey_original['alive'][prey_local[i_eaten]['index']] = 0\n",
      "        self.output[self.outp:self.outp + n_eaten]['index'] = prey_local[i_eaten]['index']\n",
      "        self.output[self.outp:self.outp + n_eaten]['time'] = d_travelled / self.speed\n",
      "        self.outp += n_eaten\n",
      "        \n",
      "        # Update time and predator position\n",
      "        self.time += step_length / self.speed\n",
      "        self.x_pred += u\n",
      "        \n",
      "    def find_prey(self, prey_local, u):\n",
      "        # Project onto u and u_perp by rotating candidate points. \n",
      "        # Predator position before step is used as centre of rotation\n",
      "        step_length = np.hypot(u[0], u[1])\n",
      "        Q = 1 / step_length * np.array([[u[0], -u[1]], [u[1], u[0]]])\n",
      "    \n",
      "        Z = prey_local['position']\n",
      "        Z = np.dot(Z - self.x_pred, Q)\n",
      "        \n",
      "        # The step is now along the first axes. Look for pieces within radius r of \n",
      "        # the line segment between (0,0) and (step_length, 0)\n",
      "        idx = ((np.linalg.norm(Z, axis=1) < self.radius) |\n",
      "               (np.linalg.norm(Z - np.array([step_length, 0]), axis=1) < self.radius) |\n",
      "               ((abs(Z[:,1]) < self.radius) & \n",
      "                (0 <= Z[:, 0]) & (Z[:, 0] <= step_length)))\n",
      "        \n",
      "        # Define d_travelled to be when the predator is closest to the prey item on its \n",
      "        # path through\n",
      "        d_travelled = Z[idx, 0]\n",
      "        \n",
      "        # If any values are negative, then assume they were eaten instantaneously.\n",
      "        # This should only happen on the first time step\n",
      "        d_travelled[d_travelled < 0] = 0.\n",
      "        \n",
      "        return idx.nonzero(), d_travelled\n",
      "        \n",
      "        "
     ],
     "language": "python",
     "metadata": {},
     "outputs": [],
     "prompt_number": 11
    },
    {
     "cell_type": "markdown",
     "metadata": {},
     "source": [
      "Test that it works\n",
      "------------------\n",
      "\n",
      "Just a quick check - draw a dense environment and cut a swathe through it. Maximum step length should be 0.5 - radius in any coordinate. The resulting scatter plot should be fairly clear."
     ]
    },
    {
     "cell_type": "code",
     "collapsed": false,
     "input": [
      "# Test whether a step works\n",
      "sim = deplete2d(density=10000, radius=0.05)\n",
      "sim.step([0.3, 0.3])\n",
      "sim.step([-0.3, 0.3])\n",
      "sim.step([-0.1, -0.1])\n",
      "sim.step([0.2, -0.4])\n",
      "idx = sim.prey_original['alive'] == 1\n",
      "x = sim.prey_original['position'][idx]\n",
      "\n",
      "plt.scatter(x[:,0], x[:,1])\n",
      "plt.axis('equal')\n",
      "_ = plt.axis([0, 1, 0, 1])\n"
     ],
     "language": "python",
     "metadata": {},
     "outputs": [
      {
       "output_type": "stream",
       "stream": "stdout",
       "text": [
        "[1 1 1 ..., 1 1 1]\n",
        "[1 1 1 ..., 1 1 1]\n",
        "[1 1 1 1 1 1 1 1 1 1 1 1 1 1 1 1 1 1 1 1 1 1 1 1 1 1 1 1 1 1 1 1 1 1 1 1 1\n",
        " 1 1 1 1 1 1 1 1 1 1 1 1 1 1 1 1 1 1 1 1 1 1 1 1 1 1 1 1 1 1 1 1 1 1 1 1 1\n",
        " 1 1 1 1 1 1 1 1 1 1 1 1 1 1 1 1 1 1 1 1 1 1 1 1 1 1 1 1 1 1 1 1 1 1 1 1 1\n",
        " 1 1 1 1 1 1 1 1 1 1 1 1 1 1 1 1 1 1 1 1 1 1 1 1 1 1 1 1 1 1 1 1 1 1 1 1 1\n",
        " 1 1 1 1 1 1 1 1 1 1 1 1 1 1 1 1 1 1 1 1 1 1 1 1 1 1 1 1 1 1 1 1 1 1 1 1 1\n",
        " 1 1 1 1 1 1 1 1 1 1 1 1 1 1 1 1 1 1 1 1 1 1 1 1 1 1 1 1 1 1 1 1 1 1 1 1 1\n",
        " 1 1 1 1 1 1 1 1 1 1 1 1 1 1 1 1 1 1 1 1 1 1 1 1 1 1 1 1 1 1 1 1 1 1 1 1 1\n",
        " 1 1 1 1 1 1 1 1 1 1 1 1 1 1 1 1 1 1 1 1 1 1 1 1 1 1 1 1 1 1 1 1 1 1 1 1 1\n",
        " 1 1 1 1 1 1 1 1 1 1 1 1 1 1 1 1 1 1 1 1 1 1 1 1 1 1 1 1 1 1 1 1 1 1 1 1 1\n",
        " 1 1 1 1 1 1 1 1 1 1 1 1 1 1 1 1 1 1 1 1 1 1 1 1 1 1 1 1 1 1 1 1 1 1 1 1 1\n",
        " 1 1 1 1 1 1 1 1 1 1 1 1 1 1 1 1 1 1 1 1 1 1 1 1 1 1 1 1 1 1 1 1 1 1 1 1 1\n",
        " 1 1 1 1 1 1 1 1 1 1 1 1 1 1 1 1 1 1 1 1 1 1 1 1 1 1 1 1 1 1 1 1 1 1 1 1 1\n",
        " 1 1 1 1 1 1 1 1 1 1 1 1 1 1 1 1 1 1 1 1 1 1 1 1 1 1 1 1 1 1 1 1 1 1 1 1 1\n",
        " 1 1 1 1 1 1 1 1 1 1 1 1 1 1 1 1 1 1 1 1 1 1 1 1 1 1 1 1 1 1 1 1 1 1 1 1 1\n",
        " 1 1 1 1 1 1 1 1 1 1 1 1 1 1 1 1 1 1 1 1 1 1 1 1 1 1 1 1 1 1 1 1 1 1 1 1 1\n",
        " 1 1 1 1 1 1 1 1 1 1 1 1 1 1 1 1 1 1 1 1 1 1 1 1 1 1 1 1 1 1 1 1 1 1 1 1 1\n",
        " 1 1 1 1 1 1 1 1 1 1 1 1 1 1 1 1 1 1 1 1 1 1 1 1 1 1 1 1 1 1 1 1 1 1 1 1 1\n",
        " 1 1 1 1 1 1 1 1 1 1 1 1 1 1 1 1 1 1 1 1 1 1 1 1 1 1 1 1 1 1 1 1 1 1 1 1 1\n",
        " 1 1 1 1 1 1 1 1 1 1 1 1 1 1 1 1 1 1 1 1 1 1 1 1 1 1 1 1 1 1 1 1 1 1 1 1 1\n",
        " 1 1 1 1 1 1 1 1 1 1 1 1 1 1 1 1 1 1 1 1 1 1 1 1 1 1 1 1 1 1 1 1 1 1 1 1 1\n",
        " 1 1 1 1 1 1 1 1 1 1 1 1 1 1 1 1 1 1 1 1 1 1 1 1 1 1 1 1 1 1 1 1 1 1 1 1 1\n",
        " 1 1 1 1 1 1 1 1 1 1 1 1 1 1 1 1 1 1 1 1 1 1 1 1 1 1 1 1 1 1 1 1 1 1 1 1 1\n",
        " 1 1 1 1 1 1 1 1 1 1 1 1 1 1 1 1 1 1 1 1 1 1 1 1 1 1 1 1 1 1 1 1 1 1 1 1 1\n",
        " 1 1 1 1 1 1 1 1 1 1 1 1 1 1 1 1 1 1 1 1 1 1 1 1 1 1 1 1 1 1 1 1 1 1 1 1 1\n",
        " 1 1 1 1 1 1 1 1 1 1 1 1 1 1 1 1 1 1 1 1 1 1 1 1 1 1 1 1 1 1 1 1 1 1 1 1 1\n",
        " 1 1 1 1 1 1 1 1 1 1 1 1 1 1 1 1 1 1 1 1 1 1 1 1 1 1 1]\n"
       ]
      },
      {
       "ename": "AssertionError",
       "evalue": "",
       "output_type": "pyerr",
       "traceback": [
        "\u001b[0;31m---------------------------------------------------------------------------\u001b[0m\n\u001b[0;31mAssertionError\u001b[0m                            Traceback (most recent call last)",
        "\u001b[0;32m<ipython-input-12-ee0ef68c2cb9>\u001b[0m in \u001b[0;36m<module>\u001b[0;34m()\u001b[0m\n\u001b[1;32m      3\u001b[0m \u001b[0msim\u001b[0m\u001b[0;34m.\u001b[0m\u001b[0mstep\u001b[0m\u001b[0;34m(\u001b[0m\u001b[0;34m[\u001b[0m\u001b[0;36m0.3\u001b[0m\u001b[0;34m,\u001b[0m \u001b[0;36m0.3\u001b[0m\u001b[0;34m]\u001b[0m\u001b[0;34m)\u001b[0m\u001b[0;34m\u001b[0m\u001b[0m\n\u001b[1;32m      4\u001b[0m \u001b[0msim\u001b[0m\u001b[0;34m.\u001b[0m\u001b[0mstep\u001b[0m\u001b[0;34m(\u001b[0m\u001b[0;34m[\u001b[0m\u001b[0;34m-\u001b[0m\u001b[0;36m0.3\u001b[0m\u001b[0;34m,\u001b[0m \u001b[0;36m0.3\u001b[0m\u001b[0;34m]\u001b[0m\u001b[0;34m)\u001b[0m\u001b[0;34m\u001b[0m\u001b[0m\n\u001b[0;32m----> 5\u001b[0;31m \u001b[0msim\u001b[0m\u001b[0;34m.\u001b[0m\u001b[0mstep\u001b[0m\u001b[0;34m(\u001b[0m\u001b[0;34m[\u001b[0m\u001b[0;34m-\u001b[0m\u001b[0;36m0.1\u001b[0m\u001b[0;34m,\u001b[0m \u001b[0;34m-\u001b[0m\u001b[0;36m0.1\u001b[0m\u001b[0;34m]\u001b[0m\u001b[0;34m)\u001b[0m\u001b[0;34m\u001b[0m\u001b[0m\n\u001b[0m\u001b[1;32m      6\u001b[0m \u001b[0msim\u001b[0m\u001b[0;34m.\u001b[0m\u001b[0mstep\u001b[0m\u001b[0;34m(\u001b[0m\u001b[0;34m[\u001b[0m\u001b[0;36m0.2\u001b[0m\u001b[0;34m,\u001b[0m \u001b[0;34m-\u001b[0m\u001b[0;36m0.4\u001b[0m\u001b[0;34m]\u001b[0m\u001b[0;34m)\u001b[0m\u001b[0;34m\u001b[0m\u001b[0m\n\u001b[1;32m      7\u001b[0m \u001b[0midx\u001b[0m \u001b[0;34m=\u001b[0m \u001b[0msim\u001b[0m\u001b[0;34m.\u001b[0m\u001b[0mprey_original\u001b[0m\u001b[0;34m[\u001b[0m\u001b[0;34m'alive'\u001b[0m\u001b[0;34m]\u001b[0m \u001b[0;34m==\u001b[0m \u001b[0;36m1\u001b[0m\u001b[0;34m\u001b[0m\u001b[0m\n",
        "\u001b[0;32m<ipython-input-11-4d00281bc59c>\u001b[0m in \u001b[0;36mstep\u001b[0;34m(self, u)\u001b[0m\n\u001b[1;32m     63\u001b[0m \u001b[0;34m\u001b[0m\u001b[0m\n\u001b[1;32m     64\u001b[0m         \u001b[0;31m#print self.prey['alive'][i_nearby[i_eaten]]\u001b[0m\u001b[0;34m\u001b[0m\u001b[0;34m\u001b[0m\u001b[0m\n\u001b[0;32m---> 65\u001b[0;31m         \u001b[0;32massert\u001b[0m\u001b[0;34m(\u001b[0m\u001b[0mself\u001b[0m\u001b[0;34m.\u001b[0m\u001b[0mprey\u001b[0m\u001b[0;34m[\u001b[0m\u001b[0;34m'alive'\u001b[0m\u001b[0;34m]\u001b[0m\u001b[0;34m[\u001b[0m\u001b[0mi_nearby\u001b[0m\u001b[0;34m[\u001b[0m\u001b[0mi_eaten\u001b[0m\u001b[0;34m]\u001b[0m\u001b[0;34m]\u001b[0m\u001b[0;34m.\u001b[0m\u001b[0mall\u001b[0m\u001b[0;34m(\u001b[0m\u001b[0;34m)\u001b[0m\u001b[0;34m)\u001b[0m\u001b[0;34m\u001b[0m\u001b[0m\n\u001b[0m\u001b[1;32m     66\u001b[0m         \u001b[0mself\u001b[0m\u001b[0;34m.\u001b[0m\u001b[0mprey\u001b[0m\u001b[0;34m[\u001b[0m\u001b[0;34m'alive'\u001b[0m\u001b[0;34m]\u001b[0m\u001b[0;34m[\u001b[0m\u001b[0mi_nearby\u001b[0m\u001b[0;34m[\u001b[0m\u001b[0mi_eaten\u001b[0m\u001b[0;34m]\u001b[0m\u001b[0;34m]\u001b[0m \u001b[0;34m=\u001b[0m \u001b[0;36m0\u001b[0m\u001b[0;34m\u001b[0m\u001b[0m\n\u001b[1;32m     67\u001b[0m \u001b[0;34m\u001b[0m\u001b[0m\n",
        "\u001b[0;31mAssertionError\u001b[0m: "
       ]
      }
     ],
     "prompt_number": 12
    },
    {
     "cell_type": "code",
     "collapsed": false,
     "input": [
      "output = np.sort(sim.output[0:sim.outp], order=['time'])\n",
      "\n",
      "plt.plot(output['time'], range(output.size))"
     ],
     "language": "python",
     "metadata": {},
     "outputs": []
    },
    {
     "cell_type": "markdown",
     "metadata": {},
     "source": [
      "Random walk experiment\n",
      "----------------------\n",
      "\n",
      "OK, let's attempt some Brownian motion.\n",
      "\n"
     ]
    },
    {
     "cell_type": "code",
     "collapsed": false,
     "input": [
      "\n",
      "\n",
      "T = 100\n",
      "sigma = 0.1\n",
      "nsteps = 2*T / (sigma / sim.speed)\n",
      "print nsteps\n",
      "\n",
      "steps = sigma / np.sqrt(2) * np.random.randn(nsteps, 2)\n",
      "t = np.cumsum(np.hypot(steps[:,0], steps[:,1]) / sim.speed)\n",
      "i_last = np.where(t > T)[0][0]\n",
      "steps = steps[:i_last+1,:]\n",
      "steps[-1] = (T - t[i_last-1]) / (t[i_last] - t[i_last-1]) * steps[-1]\n",
      "\n",
      "for u in steps:\n",
      "    sim.step(u)"
     ],
     "language": "python",
     "metadata": {},
     "outputs": [
      {
       "ename": "NameError",
       "evalue": "name 'sim' is not defined",
       "output_type": "pyerr",
       "traceback": [
        "\u001b[0;31m---------------------------------------------------------------------------\u001b[0m\n\u001b[0;31mNameError\u001b[0m                                 Traceback (most recent call last)",
        "\u001b[0;32m<ipython-input-5-39e88377e5ea>\u001b[0m in \u001b[0;36m<module>\u001b[0;34m()\u001b[0m\n\u001b[1;32m      3\u001b[0m \u001b[0mT\u001b[0m \u001b[0;34m=\u001b[0m \u001b[0;36m100\u001b[0m\u001b[0;34m\u001b[0m\u001b[0m\n\u001b[1;32m      4\u001b[0m \u001b[0msigma\u001b[0m \u001b[0;34m=\u001b[0m \u001b[0;36m0.1\u001b[0m\u001b[0;34m\u001b[0m\u001b[0m\n\u001b[0;32m----> 5\u001b[0;31m \u001b[0mnsteps\u001b[0m \u001b[0;34m=\u001b[0m \u001b[0;36m2\u001b[0m\u001b[0;34m*\u001b[0m\u001b[0mT\u001b[0m \u001b[0;34m/\u001b[0m \u001b[0;34m(\u001b[0m\u001b[0msigma\u001b[0m \u001b[0;34m/\u001b[0m \u001b[0msim\u001b[0m\u001b[0;34m.\u001b[0m\u001b[0mspeed\u001b[0m\u001b[0;34m)\u001b[0m\u001b[0;34m\u001b[0m\u001b[0m\n\u001b[0m\u001b[1;32m      6\u001b[0m \u001b[0;32mprint\u001b[0m \u001b[0mnsteps\u001b[0m\u001b[0;34m\u001b[0m\u001b[0m\n\u001b[1;32m      7\u001b[0m \u001b[0;34m\u001b[0m\u001b[0m\n",
        "\u001b[0;31mNameError\u001b[0m: name 'sim' is not defined"
       ]
      }
     ],
     "prompt_number": 5
    },
    {
     "cell_type": "code",
     "collapsed": false,
     "input": [
      "output = np.sort(sim.output[0:sim.outp], order=['time'])\n",
      "plt.plot(output['time'], np.arange(sim.outp))"
     ],
     "language": "python",
     "metadata": {},
     "outputs": []
    }
   ],
   "metadata": {}
  }
 ]
}